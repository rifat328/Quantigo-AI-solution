{
 "cells": [
  {
   "cell_type": "code",
   "execution_count": 20,
   "id": "a1eaec80",
   "metadata": {},
   "outputs": [],
   "source": [
    "import json\n",
    "import os"
   ]
  },
  {
   "cell_type": "code",
   "execution_count": 25,
   "id": "40907a10",
   "metadata": {},
   "outputs": [],
   "source": [
    "with open(\"pos_0.png.json\") as f:\n",
    "    data=json.load(f)\n"
   ]
  },
  {
   "cell_type": "code",
   "execution_count": 26,
   "id": "6fc10a51",
   "metadata": {},
   "outputs": [
    {
     "data": {
      "text/plain": [
       "{'description': '',\n",
       " 'tags': [],\n",
       " 'size': {'height': 720, 'width': 1280},\n",
       " 'objects': [{'id': 28602834,\n",
       "   'classId': 17389,\n",
       "   'description': '',\n",
       "   'geometryType': 'rectangle',\n",
       "   'labelerLogin': 'muyeed',\n",
       "   'createdAt': '2021-11-24T04:04:09.702Z',\n",
       "   'updatedAt': '2021-11-24T04:04:09.702Z',\n",
       "   'tags': [{'id': 29485103,\n",
       "     'tagId': 32292,\n",
       "     'name': 'Type',\n",
       "     'value': 'SUV',\n",
       "     'labelerLogin': 'muyeed',\n",
       "     'createdAt': '2021-11-24T04:04:09.702Z',\n",
       "     'updatedAt': '2021-11-24T04:04:09.702Z'},\n",
       "    {'id': 29485102,\n",
       "     'tagId': 32295,\n",
       "     'name': 'Pose',\n",
       "     'value': 'Rear',\n",
       "     'labelerLogin': 'muyeed',\n",
       "     'createdAt': '2021-11-24T04:04:09.702Z',\n",
       "     'updatedAt': '2021-11-24T04:04:09.702Z'},\n",
       "    {'id': 29485101,\n",
       "     'tagId': 32297,\n",
       "     'name': 'Model',\n",
       "     'value': 'UN',\n",
       "     'labelerLogin': 'muyeed',\n",
       "     'createdAt': '2021-11-24T04:04:09.702Z',\n",
       "     'updatedAt': '2021-11-24T04:04:09.702Z'},\n",
       "    {'id': 29485100,\n",
       "     'tagId': 32296,\n",
       "     'name': 'Make',\n",
       "     'value': 'Lexus',\n",
       "     'labelerLogin': 'muyeed',\n",
       "     'createdAt': '2021-11-24T04:04:09.702Z',\n",
       "     'updatedAt': '2021-11-24T04:04:09.702Z'},\n",
       "    {'id': 29485099,\n",
       "     'tagId': 32291,\n",
       "     'name': 'Color',\n",
       "     'value': 'Silver',\n",
       "     'labelerLogin': 'muyeed',\n",
       "     'createdAt': '2021-11-24T04:04:09.702Z',\n",
       "     'updatedAt': '2021-11-24T04:04:09.702Z'}],\n",
       "   'classTitle': 'Vehicle',\n",
       "   'points': {'exterior': [[396, 3], [773, 314]], 'interior': []}},\n",
       "  {'id': 28602833,\n",
       "   'classId': 17388,\n",
       "   'description': '',\n",
       "   'geometryType': 'rectangle',\n",
       "   'labelerLogin': 'muyeed',\n",
       "   'createdAt': '2021-11-24T04:04:09.702Z',\n",
       "   'updatedAt': '2021-11-24T04:04:09.702Z',\n",
       "   'tags': [{'id': 29485098,\n",
       "     'tagId': 32293,\n",
       "     'name': 'Difficulty Score',\n",
       "     'value': '0',\n",
       "     'labelerLogin': 'muyeed',\n",
       "     'createdAt': '2021-11-24T04:04:09.702Z',\n",
       "     'updatedAt': '2021-11-24T04:04:09.702Z'},\n",
       "    {'id': 29485097,\n",
       "     'tagId': 32290,\n",
       "     'name': 'Value',\n",
       "     'value': 'CA, 7LVS119',\n",
       "     'labelerLogin': 'muyeed',\n",
       "     'createdAt': '2021-11-24T04:04:09.702Z',\n",
       "     'updatedAt': '2021-11-24T04:04:09.702Z'}],\n",
       "   'classTitle': 'License Plate',\n",
       "   'points': {'exterior': [[535, 158], [622, 213]], 'interior': []}}]}"
      ]
     },
     "execution_count": 26,
     "metadata": {},
     "output_type": "execute_result"
    }
   ],
   "source": [
    "data\n"
   ]
  },
  {
   "cell_type": "code",
   "execution_count": 27,
   "id": "a66cec09",
   "metadata": {},
   "outputs": [
    {
     "data": {
      "text/plain": [
       "list"
      ]
     },
     "execution_count": 27,
     "metadata": {},
     "output_type": "execute_result"
    }
   ],
   "source": [
    "type(data['objects'])"
   ]
  },
  {
   "cell_type": "code",
   "execution_count": 28,
   "id": "8fc01958",
   "metadata": {},
   "outputs": [
    {
     "data": {
      "text/plain": [
       "[{'id': 28602834,\n",
       "  'classId': 17389,\n",
       "  'description': '',\n",
       "  'geometryType': 'rectangle',\n",
       "  'labelerLogin': 'muyeed',\n",
       "  'createdAt': '2021-11-24T04:04:09.702Z',\n",
       "  'updatedAt': '2021-11-24T04:04:09.702Z',\n",
       "  'tags': [{'id': 29485103,\n",
       "    'tagId': 32292,\n",
       "    'name': 'Type',\n",
       "    'value': 'SUV',\n",
       "    'labelerLogin': 'muyeed',\n",
       "    'createdAt': '2021-11-24T04:04:09.702Z',\n",
       "    'updatedAt': '2021-11-24T04:04:09.702Z'},\n",
       "   {'id': 29485102,\n",
       "    'tagId': 32295,\n",
       "    'name': 'Pose',\n",
       "    'value': 'Rear',\n",
       "    'labelerLogin': 'muyeed',\n",
       "    'createdAt': '2021-11-24T04:04:09.702Z',\n",
       "    'updatedAt': '2021-11-24T04:04:09.702Z'},\n",
       "   {'id': 29485101,\n",
       "    'tagId': 32297,\n",
       "    'name': 'Model',\n",
       "    'value': 'UN',\n",
       "    'labelerLogin': 'muyeed',\n",
       "    'createdAt': '2021-11-24T04:04:09.702Z',\n",
       "    'updatedAt': '2021-11-24T04:04:09.702Z'},\n",
       "   {'id': 29485100,\n",
       "    'tagId': 32296,\n",
       "    'name': 'Make',\n",
       "    'value': 'Lexus',\n",
       "    'labelerLogin': 'muyeed',\n",
       "    'createdAt': '2021-11-24T04:04:09.702Z',\n",
       "    'updatedAt': '2021-11-24T04:04:09.702Z'},\n",
       "   {'id': 29485099,\n",
       "    'tagId': 32291,\n",
       "    'name': 'Color',\n",
       "    'value': 'Silver',\n",
       "    'labelerLogin': 'muyeed',\n",
       "    'createdAt': '2021-11-24T04:04:09.702Z',\n",
       "    'updatedAt': '2021-11-24T04:04:09.702Z'}],\n",
       "  'classTitle': 'Vehicle',\n",
       "  'points': {'exterior': [[396, 3], [773, 314]], 'interior': []}},\n",
       " {'id': 28602833,\n",
       "  'classId': 17388,\n",
       "  'description': '',\n",
       "  'geometryType': 'rectangle',\n",
       "  'labelerLogin': 'muyeed',\n",
       "  'createdAt': '2021-11-24T04:04:09.702Z',\n",
       "  'updatedAt': '2021-11-24T04:04:09.702Z',\n",
       "  'tags': [{'id': 29485098,\n",
       "    'tagId': 32293,\n",
       "    'name': 'Difficulty Score',\n",
       "    'value': '0',\n",
       "    'labelerLogin': 'muyeed',\n",
       "    'createdAt': '2021-11-24T04:04:09.702Z',\n",
       "    'updatedAt': '2021-11-24T04:04:09.702Z'},\n",
       "   {'id': 29485097,\n",
       "    'tagId': 32290,\n",
       "    'name': 'Value',\n",
       "    'value': 'CA, 7LVS119',\n",
       "    'labelerLogin': 'muyeed',\n",
       "    'createdAt': '2021-11-24T04:04:09.702Z',\n",
       "    'updatedAt': '2021-11-24T04:04:09.702Z'}],\n",
       "  'classTitle': 'License Plate',\n",
       "  'points': {'exterior': [[535, 158], [622, 213]], 'interior': []}}]"
      ]
     },
     "execution_count": 28,
     "metadata": {},
     "output_type": "execute_result"
    }
   ],
   "source": [
    "data['objects']"
   ]
  },
  {
   "cell_type": "code",
   "execution_count": 50,
   "id": "09209ff6",
   "metadata": {},
   "outputs": [
    {
     "name": "stdout",
     "output_type": "stream",
     "text": [
      "File created: pos_0.png.json to formatted_pos_0.png.json\n",
      "File created: pos_10010.png.json to formatted_pos_10010.png.json\n",
      "File created: pos_10492.png.json to formatted_pos_10492.png.json\n",
      "Successfully combined JSON files into combined.json\n"
     ]
    }
   ],
   "source": [
    "import json\n",
    "import os\n",
    "\n",
    "def convert_json(filename):\n",
    "    with open(filename) as f:\n",
    "        data = json.load(f)\n",
    "\n",
    "    newData = [{\n",
    "        'dataset_name': os.path.basename(filename),\n",
    "        'image_link': '',\n",
    "        'annotation_type': 'image',\n",
    "        'annotation_objects': {},\n",
    "        'annotation_attributes': {}\n",
    "    }]\n",
    "\n",
    "    for obj in data['objects']:\n",
    "        if obj['classTitle'] == 'Vehicle':\n",
    "            newData[0]['annotation_objects']['vehicle'] = {\n",
    "                'presence': 1,\n",
    "                'bbox': obj['points']['exterior'][0] + obj['points']['exterior'][1]\n",
    "            }\n",
    "            newData[0]['annotation_attributes']['vehicle'] = {}\n",
    "            for tag in obj['tags']:\n",
    "                newData[0]['annotation_attributes']['vehicle'][tag['name']] = tag['value']\n",
    "        elif obj['classTitle'] == 'License Plate':\n",
    "            newData[0]['annotation_objects']['license_plate'] = {\n",
    "                'presence': 1,\n",
    "                'bbox': obj['points']['exterior'][0] + obj['points']['exterior'][1]\n",
    "            }\n",
    "            newData[0]['annotation_attributes']['license_plate'] = {}\n",
    "            for tag in obj['tags']:\n",
    "                newData[0]['annotation_attributes']['license_plate'][tag['name']] = tag['value']\n",
    "\n",
    "    newFile = 'formatted_' + os.path.basename(filename)\n",
    "    with open(newFile, 'w') as f:\n",
    "        json.dump(newData, f, indent=4)\n",
    "    print(f'File created: {filename} to {newFile}')\n",
    "\n",
    "def combine_jsons():\n",
    "    folder_path = os.getcwd()  # JSON files are in the current working directory\n",
    "\n",
    "    combined_data = []\n",
    "    json_files = ['pos_0.png.json', 'pos_10010.png.json', 'pos_10492.png.json']\n",
    "\n",
    "    for json_file in json_files:\n",
    "        with open(os.path.join(folder_path, json_file), 'r') as file:\n",
    "            data = json.load(file)\n",
    "\n",
    "        for obj in data['objects']:\n",
    "            new_obj = {}\n",
    "            if obj['classTitle'] == 'Vehicle':\n",
    "                new_obj['class'] = 'car'\n",
    "            elif obj['classTitle'] == 'License Plate':\n",
    "                new_obj['class'] = 'number'\n",
    "\n",
    "            new_obj['bounding_box'] = obj['points']['exterior'][0] + obj['points']['exterior'][1]\n",
    "            combined_data.append(new_obj)\n",
    "\n",
    "    combined_json = {'combined_objects': combined_data}\n",
    "    combined_filename = 'combined.json'\n",
    "\n",
    "    with open(combined_filename, 'w') as file:\n",
    "        json.dump(combined_json, file, indent=4)\n",
    "\n",
    "    print(f'Successfully combined JSON files into {combined_filename}')\n",
    "\n",
    "# Testing:::\n",
    "json_file1 = 'pos_0.png.json'\n",
    "json_file2 = 'pos_10010.png.json'\n",
    "json_file3 = 'pos_10492.png.json'\n",
    "convert_json(json_file1)\n",
    "convert_json(json_file2)\n",
    "convert_json(json_file3)\n",
    "combine_jsons()\n"
   ]
  },
  {
   "cell_type": "code",
   "execution_count": 51,
   "id": "a840ecc5",
   "metadata": {},
   "outputs": [
    {
     "data": {
      "text/plain": [
       "{'combined_objects': [{'class': 'car', 'bounding_box': [396, 3, 773, 314]},\n",
       "  {'class': 'number', 'bounding_box': [535, 158, 622, 213]},\n",
       "  {'class': 'car', 'bounding_box': [770, 0, 882, 306]}]}"
      ]
     },
     "execution_count": 51,
     "metadata": {},
     "output_type": "execute_result"
    }
   ],
   "source": [
    "with open('combined.json','r') as f:\n",
    "    dataShowCombined=json.load(f)\n",
    "dataShowCombined\n"
   ]
  },
  {
   "cell_type": "code",
   "execution_count": 52,
   "id": "02e0ea90",
   "metadata": {},
   "outputs": [
    {
     "data": {
      "text/plain": [
       "[{'dataset_name': 'pos_0.png.json',\n",
       "  'image_link': '',\n",
       "  'annotation_type': 'image',\n",
       "  'annotation_objects': {'vehicle': {'presence': 1,\n",
       "    'bbox': [396, 3, 773, 314]},\n",
       "   'license_plate': {'presence': 1, 'bbox': [535, 158, 622, 213]}},\n",
       "  'annotation_attributes': {'vehicle': {'Type': 'SUV',\n",
       "    'Pose': 'Rear',\n",
       "    'Model': 'UN',\n",
       "    'Make': 'Lexus',\n",
       "    'Color': 'Silver'},\n",
       "   'license_plate': {'Difficulty Score': '0', 'Value': 'CA, 7LVS119'}}}]"
      ]
     },
     "execution_count": 52,
     "metadata": {},
     "output_type": "execute_result"
    }
   ],
   "source": [
    "with open('formatted_pos_0.png.json','r') as f:\n",
    "    dataShow1=json.load(f)\n",
    "dataShow1"
   ]
  },
  {
   "cell_type": "code",
   "execution_count": 53,
   "id": "6cacf6ad",
   "metadata": {},
   "outputs": [
    {
     "data": {
      "text/plain": [
       "[{'dataset_name': 'pos_10010.png.json',\n",
       "  'image_link': '',\n",
       "  'annotation_type': 'image',\n",
       "  'annotation_objects': {'vehicle': {'presence': 1,\n",
       "    'bbox': [770, 0, 882, 306]}},\n",
       "  'annotation_attributes': {'vehicle': {'Make': 'Mercedes-Benz',\n",
       "    'Type': 'SUV',\n",
       "    'Pose': 'Rear',\n",
       "    'Model': 'UN',\n",
       "    'Color': 'Silver'}}}]"
      ]
     },
     "execution_count": 53,
     "metadata": {},
     "output_type": "execute_result"
    }
   ],
   "source": [
    "with open('formatted_pos_10010.png.json','r') as f:\n",
    "    dataShow2=json.load(f)\n",
    "dataShow2"
   ]
  },
  {
   "cell_type": "code",
   "execution_count": 57,
   "id": "24c45865",
   "metadata": {},
   "outputs": [
    {
     "data": {
      "text/plain": [
       "[{'dataset_name': 'pos_10492.png.json',\n",
       "  'image_link': '',\n",
       "  'annotation_type': 'image',\n",
       "  'annotation_objects': {},\n",
       "  'annotation_attributes': {}}]"
      ]
     },
     "execution_count": 57,
     "metadata": {},
     "output_type": "execute_result"
    }
   ],
   "source": [
    "with open('formatted_pos_10492.png.json','r') as f:\n",
    "    dataShow3=json.load(f)\n",
    "dataShow3"
   ]
  },
  {
   "cell_type": "code",
   "execution_count": null,
   "id": "230ab897",
   "metadata": {},
   "outputs": [],
   "source": []
  }
 ],
 "metadata": {
  "kernelspec": {
   "display_name": "Python 3 (ipykernel)",
   "language": "python",
   "name": "python3"
  },
  "language_info": {
   "codemirror_mode": {
    "name": "ipython",
    "version": 3
   },
   "file_extension": ".py",
   "mimetype": "text/x-python",
   "name": "python",
   "nbconvert_exporter": "python",
   "pygments_lexer": "ipython3",
   "version": "3.11.3"
  }
 },
 "nbformat": 4,
 "nbformat_minor": 5
}
